{
  "nbformat": 4,
  "nbformat_minor": 0,
  "metadata": {
    "colab": {
      "name": "IrisNN_OFurmanczuk.ipynb",
      "provenance": [],
      "collapsed_sections": []
    },
    "kernelspec": {
      "name": "python3",
      "display_name": "Python 3"
    }
  },
  "cells": [
    {
      "cell_type": "code",
      "metadata": {
        "colab": {
          "base_uri": "https://localhost:8080/",
          "height": 35
        },
        "id": "cKPUJLlq9hap",
        "outputId": "0fc9b025-54dc-4c1f-c43e-fbf1688ade8b"
      },
      "source": [
        "%tensorflow_version 2.x\r\n",
        "!pip install -q sklearn\r\n",
        "\r\n",
        "import numpy as np\r\n",
        "import pandas as pd\r\n",
        "import matplotlib.pyplot as plt\r\n",
        "from sklearn.model_selection import train_test_split\r\n",
        "from sklearn.preprocessing import LabelEncoder\r\n",
        "from sklearn import preprocessing\r\n",
        "from keras.models import Sequential\r\n",
        "from keras.layers import Dense\r\n",
        "from sklearn.preprocessing import OneHotEncoder, StandardScaler\r\n",
        "\r\n",
        "from IPython.display import clear_output\r\n",
        "from six.moves import urllib\r\n",
        "import tensorflow.compat.v2.feature_column as fc\r\n",
        "import tensorflow as tf\r\n",
        "tf.__version__"
      ],
      "execution_count": 1,
      "outputs": [
        {
          "output_type": "execute_result",
          "data": {
            "application/vnd.google.colaboratory.intrinsic+json": {
              "type": "string"
            },
            "text/plain": [
              "'2.4.1'"
            ]
          },
          "metadata": {
            "tags": []
          },
          "execution_count": 1
        }
      ]
    },
    {
      "cell_type": "code",
      "metadata": {
        "id": "sJzk-KhM9vTL"
      },
      "source": [
        "df = pd.read_csv(\"https://archive.ics.uci.edu/ml/machine-learning-databases/iris/iris.data\", names=[\"x1\", \"x2\", \"x3\", \"x4\", \"y\"])"
      ],
      "execution_count": 2,
      "outputs": []
    },
    {
      "cell_type": "code",
      "metadata": {
        "colab": {
          "base_uri": "https://localhost:8080/",
          "height": 195
        },
        "id": "A72pTHeP950o",
        "outputId": "dbb5972f-a89a-4c56-f63d-34efa841e6e9"
      },
      "source": [
        "df.head()"
      ],
      "execution_count": 3,
      "outputs": [
        {
          "output_type": "execute_result",
          "data": {
            "text/html": [
              "<div>\n",
              "<style scoped>\n",
              "    .dataframe tbody tr th:only-of-type {\n",
              "        vertical-align: middle;\n",
              "    }\n",
              "\n",
              "    .dataframe tbody tr th {\n",
              "        vertical-align: top;\n",
              "    }\n",
              "\n",
              "    .dataframe thead th {\n",
              "        text-align: right;\n",
              "    }\n",
              "</style>\n",
              "<table border=\"1\" class=\"dataframe\">\n",
              "  <thead>\n",
              "    <tr style=\"text-align: right;\">\n",
              "      <th></th>\n",
              "      <th>x1</th>\n",
              "      <th>x2</th>\n",
              "      <th>x3</th>\n",
              "      <th>x4</th>\n",
              "      <th>y</th>\n",
              "    </tr>\n",
              "  </thead>\n",
              "  <tbody>\n",
              "    <tr>\n",
              "      <th>0</th>\n",
              "      <td>5.1</td>\n",
              "      <td>3.5</td>\n",
              "      <td>1.4</td>\n",
              "      <td>0.2</td>\n",
              "      <td>Iris-setosa</td>\n",
              "    </tr>\n",
              "    <tr>\n",
              "      <th>1</th>\n",
              "      <td>4.9</td>\n",
              "      <td>3.0</td>\n",
              "      <td>1.4</td>\n",
              "      <td>0.2</td>\n",
              "      <td>Iris-setosa</td>\n",
              "    </tr>\n",
              "    <tr>\n",
              "      <th>2</th>\n",
              "      <td>4.7</td>\n",
              "      <td>3.2</td>\n",
              "      <td>1.3</td>\n",
              "      <td>0.2</td>\n",
              "      <td>Iris-setosa</td>\n",
              "    </tr>\n",
              "    <tr>\n",
              "      <th>3</th>\n",
              "      <td>4.6</td>\n",
              "      <td>3.1</td>\n",
              "      <td>1.5</td>\n",
              "      <td>0.2</td>\n",
              "      <td>Iris-setosa</td>\n",
              "    </tr>\n",
              "    <tr>\n",
              "      <th>4</th>\n",
              "      <td>5.0</td>\n",
              "      <td>3.6</td>\n",
              "      <td>1.4</td>\n",
              "      <td>0.2</td>\n",
              "      <td>Iris-setosa</td>\n",
              "    </tr>\n",
              "  </tbody>\n",
              "</table>\n",
              "</div>"
            ],
            "text/plain": [
              "    x1   x2   x3   x4            y\n",
              "0  5.1  3.5  1.4  0.2  Iris-setosa\n",
              "1  4.9  3.0  1.4  0.2  Iris-setosa\n",
              "2  4.7  3.2  1.3  0.2  Iris-setosa\n",
              "3  4.6  3.1  1.5  0.2  Iris-setosa\n",
              "4  5.0  3.6  1.4  0.2  Iris-setosa"
            ]
          },
          "metadata": {
            "tags": []
          },
          "execution_count": 3
        }
      ]
    },
    {
      "cell_type": "code",
      "metadata": {
        "colab": {
          "base_uri": "https://localhost:8080/",
          "height": 284
        },
        "id": "6SD9YCHy97Hl",
        "outputId": "8e30d672-f2b7-49bb-cd35-3134d0eadf76"
      },
      "source": [
        "df.describe()"
      ],
      "execution_count": 4,
      "outputs": [
        {
          "output_type": "execute_result",
          "data": {
            "text/html": [
              "<div>\n",
              "<style scoped>\n",
              "    .dataframe tbody tr th:only-of-type {\n",
              "        vertical-align: middle;\n",
              "    }\n",
              "\n",
              "    .dataframe tbody tr th {\n",
              "        vertical-align: top;\n",
              "    }\n",
              "\n",
              "    .dataframe thead th {\n",
              "        text-align: right;\n",
              "    }\n",
              "</style>\n",
              "<table border=\"1\" class=\"dataframe\">\n",
              "  <thead>\n",
              "    <tr style=\"text-align: right;\">\n",
              "      <th></th>\n",
              "      <th>x1</th>\n",
              "      <th>x2</th>\n",
              "      <th>x3</th>\n",
              "      <th>x4</th>\n",
              "    </tr>\n",
              "  </thead>\n",
              "  <tbody>\n",
              "    <tr>\n",
              "      <th>count</th>\n",
              "      <td>150.000000</td>\n",
              "      <td>150.000000</td>\n",
              "      <td>150.000000</td>\n",
              "      <td>150.000000</td>\n",
              "    </tr>\n",
              "    <tr>\n",
              "      <th>mean</th>\n",
              "      <td>5.843333</td>\n",
              "      <td>3.054000</td>\n",
              "      <td>3.758667</td>\n",
              "      <td>1.198667</td>\n",
              "    </tr>\n",
              "    <tr>\n",
              "      <th>std</th>\n",
              "      <td>0.828066</td>\n",
              "      <td>0.433594</td>\n",
              "      <td>1.764420</td>\n",
              "      <td>0.763161</td>\n",
              "    </tr>\n",
              "    <tr>\n",
              "      <th>min</th>\n",
              "      <td>4.300000</td>\n",
              "      <td>2.000000</td>\n",
              "      <td>1.000000</td>\n",
              "      <td>0.100000</td>\n",
              "    </tr>\n",
              "    <tr>\n",
              "      <th>25%</th>\n",
              "      <td>5.100000</td>\n",
              "      <td>2.800000</td>\n",
              "      <td>1.600000</td>\n",
              "      <td>0.300000</td>\n",
              "    </tr>\n",
              "    <tr>\n",
              "      <th>50%</th>\n",
              "      <td>5.800000</td>\n",
              "      <td>3.000000</td>\n",
              "      <td>4.350000</td>\n",
              "      <td>1.300000</td>\n",
              "    </tr>\n",
              "    <tr>\n",
              "      <th>75%</th>\n",
              "      <td>6.400000</td>\n",
              "      <td>3.300000</td>\n",
              "      <td>5.100000</td>\n",
              "      <td>1.800000</td>\n",
              "    </tr>\n",
              "    <tr>\n",
              "      <th>max</th>\n",
              "      <td>7.900000</td>\n",
              "      <td>4.400000</td>\n",
              "      <td>6.900000</td>\n",
              "      <td>2.500000</td>\n",
              "    </tr>\n",
              "  </tbody>\n",
              "</table>\n",
              "</div>"
            ],
            "text/plain": [
              "               x1          x2          x3          x4\n",
              "count  150.000000  150.000000  150.000000  150.000000\n",
              "mean     5.843333    3.054000    3.758667    1.198667\n",
              "std      0.828066    0.433594    1.764420    0.763161\n",
              "min      4.300000    2.000000    1.000000    0.100000\n",
              "25%      5.100000    2.800000    1.600000    0.300000\n",
              "50%      5.800000    3.000000    4.350000    1.300000\n",
              "75%      6.400000    3.300000    5.100000    1.800000\n",
              "max      7.900000    4.400000    6.900000    2.500000"
            ]
          },
          "metadata": {
            "tags": []
          },
          "execution_count": 4
        }
      ]
    },
    {
      "cell_type": "code",
      "metadata": {
        "id": "Osy1ql8EMWgC"
      },
      "source": [
        "X = df[[\"x1\", \"x2\", \"x3\", \"x4\"]]\r\n",
        "\r\n",
        "scaler = StandardScaler()\r\n",
        "X = scaler.fit_transform(X)\r\n",
        "\r\n",
        "y = df[\"y\"]\r\n",
        "y = pd.get_dummies(y)\r\n"
      ],
      "execution_count": 5,
      "outputs": []
    },
    {
      "cell_type": "code",
      "metadata": {
        "id": "YhGpkbIf_Bqs"
      },
      "source": [
        "X_train, X_test, y_train, y_test = train_test_split(X, y, test_size = 0.2)"
      ],
      "execution_count": 6,
      "outputs": []
    },
    {
      "cell_type": "code",
      "metadata": {
        "id": "dCJSE9HqK-Ui"
      },
      "source": [
        "def customized_nn (nodes, extra_layers):\r\n",
        "  model = Sequential()\r\n",
        "  model.add(Dense(nodes, input_dim=4, activation='relu'))\r\n",
        "\r\n",
        "  for _ in range(extra_layers):\r\n",
        "    model.add(Dense(nodes, activation='relu'))\r\n",
        "  \r\n",
        "  \r\n",
        "  model.add(Dense(3, activation='softmax'))\r\n",
        "\r\n",
        "  model.compile(loss='categorical_crossentropy', \r\n",
        "                      optimizer='adam', \r\n",
        "                      metrics=['accuracy'])\r\n",
        "  \r\n",
        "  model.fit(X_train, y_train,\r\n",
        "          batch_size=5,\r\n",
        "          epochs=50,\r\n",
        "          verbose=0,\r\n",
        "          validation_data=(X_test, y_test) \r\n",
        "          )\r\n",
        "  \r\n",
        "  return model\r\n"
      ],
      "execution_count": 7,
      "outputs": []
    },
    {
      "cell_type": "code",
      "metadata": {
        "id": "MK1NPrYBQ_s3"
      },
      "source": [
        "def find_best_model(nodes, layers):\r\n",
        "  high_acc = 0\r\n",
        "  low_loss = 1000\r\n",
        "  best_model = None\r\n",
        "\r\n",
        "  for n in nodes:\r\n",
        "    for l in layers:\r\n",
        "      model = customized_nn (n, l)\r\n",
        "\r\n",
        "      test_res = model.evaluate(X_test, y_test, verbose=0)\r\n",
        "      print(\"nodes: \" + str(n) + \" extra layers: \" + str(l) + \" --- accuracy \" + str(test_res[1]) + \" loss \" + str(test_res[0]))\r\n",
        "\r\n",
        "      if(test_res[1] - test_res[0] > high_acc - low_loss):\r\n",
        "        best_model = model\r\n",
        "        high_acc = test_res[1]\r\n",
        "        low_loss = test_res[0]\r\n",
        "        print(\"^current best^\")\r\n",
        "    \r\n",
        "  return best_model \r\n",
        "      "
      ],
      "execution_count": 8,
      "outputs": []
    },
    {
      "cell_type": "code",
      "metadata": {
        "colab": {
          "base_uri": "https://localhost:8080/"
        },
        "id": "5SDIaLKrYyuP",
        "outputId": "215762bc-c281-47b6-d7c9-5ba3cb278460"
      },
      "source": [
        "nodes = [2, 4, 10, 20]\r\n",
        "layers = range(4)\r\n",
        "\r\n",
        "model = find_best_model(nodes, layers)"
      ],
      "execution_count": 9,
      "outputs": [
        {
          "output_type": "stream",
          "text": [
            "nodes: 2 extra layers: 0 --- accuracy 0.5666666626930237 loss 0.6904841065406799\n",
            "^current best^\n",
            "nodes: 2 extra layers: 1 --- accuracy 0.4333333373069763 loss 1.0257046222686768\n",
            "nodes: 2 extra layers: 2 --- accuracy 0.6333333253860474 loss 0.5761631727218628\n",
            "^current best^\n",
            "nodes: 2 extra layers: 3 --- accuracy 0.8333333134651184 loss 0.4215429127216339\n",
            "^current best^\n",
            "nodes: 4 extra layers: 0 --- accuracy 0.8333333134651184 loss 0.36227113008499146\n",
            "^current best^\n",
            "nodes: 4 extra layers: 1 --- accuracy 0.9333333373069763 loss 0.2797718048095703\n",
            "^current best^\n",
            "nodes: 4 extra layers: 2 --- accuracy 0.7666666507720947 loss 0.4791930615901947\n",
            "nodes: 4 extra layers: 3 --- accuracy 0.7666666507720947 loss 0.5072798728942871\n",
            "nodes: 10 extra layers: 0 --- accuracy 0.9666666388511658 loss 0.21364307403564453\n",
            "^current best^\n",
            "nodes: 10 extra layers: 1 --- accuracy 1.0 loss 0.07674063742160797\n",
            "^current best^\n",
            "nodes: 10 extra layers: 2 --- accuracy 1.0 loss 0.03206599876284599\n",
            "^current best^\n",
            "nodes: 10 extra layers: 3 --- accuracy 1.0 loss 0.03644584119319916\n",
            "nodes: 20 extra layers: 0 --- accuracy 1.0 loss 0.14277900755405426\n",
            "nodes: 20 extra layers: 1 --- accuracy 1.0 loss 0.03796808049082756\n",
            "nodes: 20 extra layers: 2 --- accuracy 1.0 loss 0.014876995235681534\n",
            "^current best^\n",
            "nodes: 20 extra layers: 3 --- accuracy 1.0 loss 0.016175759956240654\n"
          ],
          "name": "stdout"
        }
      ]
    },
    {
      "cell_type": "code",
      "metadata": {
        "colab": {
          "base_uri": "https://localhost:8080/"
        },
        "id": "tTcQD-PsTPtU",
        "outputId": "eb736b93-2d42-4589-edca-4e955b548467"
      },
      "source": [
        "model.summary()"
      ],
      "execution_count": 10,
      "outputs": [
        {
          "output_type": "stream",
          "text": [
            "Model: \"sequential_14\"\n",
            "_________________________________________________________________\n",
            "Layer (type)                 Output Shape              Param #   \n",
            "=================================================================\n",
            "dense_47 (Dense)             (None, 20)                100       \n",
            "_________________________________________________________________\n",
            "dense_48 (Dense)             (None, 20)                420       \n",
            "_________________________________________________________________\n",
            "dense_49 (Dense)             (None, 20)                420       \n",
            "_________________________________________________________________\n",
            "dense_50 (Dense)             (None, 3)                 63        \n",
            "=================================================================\n",
            "Total params: 1,003\n",
            "Trainable params: 1,003\n",
            "Non-trainable params: 0\n",
            "_________________________________________________________________\n"
          ],
          "name": "stdout"
        }
      ]
    },
    {
      "cell_type": "code",
      "metadata": {
        "colab": {
          "base_uri": "https://localhost:8080/"
        },
        "id": "M-Lysro9ZaLu",
        "outputId": "6f7c2745-b83a-443d-9af5-357a2bc27952"
      },
      "source": [
        "test_res = model.evaluate(X_test, y_test, verbose=0)\r\n",
        "print(\"The neural network model scores: \\n - accuracy \" + str(test_res[1]) + \" \\n - loss \" + str(test_res[0]))"
      ],
      "execution_count": 11,
      "outputs": [
        {
          "output_type": "stream",
          "text": [
            "The neural network model scores: \n",
            " - accuracy 1.0 \n",
            " - loss 0.014876995235681534\n"
          ],
          "name": "stdout"
        }
      ]
    }
  ]
}